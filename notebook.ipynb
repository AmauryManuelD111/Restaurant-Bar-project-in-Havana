{
 "cells": [
  {
   "cell_type": "code",
   "execution_count": null,
   "metadata": {},
   "outputs": [
    {
     "ename": "SyntaxError",
     "evalue": "invalid syntax (3441155536.py, line 9)",
     "output_type": "error",
     "traceback": [
      "\u001b[1;36m  Cell \u001b[1;32mIn[9], line 9\u001b[1;36m\u001b[0m\n\u001b[1;33m    def_data():\u001b[0m\n\u001b[1;37m              ^\u001b[0m\n\u001b[1;31mSyntaxError\u001b[0m\u001b[1;31m:\u001b[0m invalid syntax\n"
     ]
    }
   ],
   "source": [
    "import pandas as pd\n",
    "import matplotlib.pyplot as plt\n",
    "import json\n",
    "import os\n",
    "import sys\n",
    "\n",
    "\n",
    "\n",
    "def_data():\n",
    "             for root , _, files in os.walk('jsons'):\n",
    "                 json_list = []\n",
    "                     for filename in files:\n",
    "                        if filename.endswith('.json'):\n",
    "                             filepath = os.path.join(root,filename)\n",
    "                     with open(filepath, 'r', encoding='utf-8') as file:\n",
    "                         json_list.append(json.load(file))               \n",
    "                          df = pd.json_normalize(json_list)\n",
    "                             df             "
   ]
  },
  {
   "cell_type": "markdown",
   "metadata": {},
   "source": [
    "El objetivo que me trace con el proyecto fue el de analizar los horarios de apertura y cierre de los restaurantes que puede tener varios objetivos y beneficios, tanto para los propietarios de los restaurantes como para los clientes y analistas del sector como los siguientes: \n",
    "\n",
    "1. Optimizacion de Operaciones\n",
    "Identificacion de Horas Pico: analizar los horarios puede ayudar a identificar las horas mas concurridas, lo que permite a los restaurantes ajustar su personal y recursos para satisfacer la demanda.\n",
    "Ajuste de Horarios: Si se observa que ciertos días o horas tienen poca afluencia, los propietarios pueden considerar ajustar los horarios de apertura o cierre para optimizar costos.\n",
    "2. Mejora de la Experiencia del Cliente\n",
    "Disponibilidad: Conocer los horarios de apertura permite a los clientes planificar sus visitas, evitando frustraciones por encontrar el restaurante cerrado.\n",
    "Promociones y Eventos: Los restaurantes pueden programar promociones o eventos especiales en horarios donde normalmente hay menos clientes, atrayendo mas visitantes.\n",
    "3. Analisis de Competencia\n",
    "Comparacion de Horarios: analizar los horarios de apertura de la competencia puede ayudar a los restaurantes a posicionarse mejor en el mercado, eligiendo horarios que les permitan captar mas clientes.\n",
    "Identificacion de Oportunidades: Si muchos restaurantes en una zona cierran temprano, un restaurante que permanezca abierto mas tiempo puede atraer a clientes que buscan opciones mas tarde.\n",
    "4. Planificacion de Recursos\n",
    "Gestion de Personal: Con un analisis de horarios, los restaurantes pueden planificar mejor la programacion de su personal, asegurando que haya suficiente personal durante las horas pico y evitando el exceso de personal en horas de baja afluencia.\n",
    "Control de Costos: Ajustar los horarios de operacion puede ayudar a reducir costos operativos, como el consumo de energía y otros gastos asociados.\n",
    "5. Tendencias del Mercado\n",
    "Identificacion de Patrones: Analizar los horarios puede revelar tendencias en el comportamiento del consumidor, lo que puede ser útil para la planificacion a largo plazo.\n",
    "Adaptacion a Cambios: Los cambios en los habitos de los consumidores (por ejemplo, mas personas que cenan tarde) pueden ser identificados a través del analisis de horarios, permitiendo a los restaurantes adaptarse a estas tendencias.\n",
    "6. Datos para Toma de Decisiones\n",
    "Informes y Analisis: Los datos sobre horarios pueden ser utilizados en informes para la toma de decisiones estratégicas, como la expansion de un negocio o la apertura de nuevas sucursales."
   ]
  },
  {
   "cell_type": "code",
   "execution_count": null,
   "metadata": {},
   "outputs": [],
   "source": [
    "import jsons\n",
    "\n",
    "jsons.def_data()"
   ]
  }
 ],
 "metadata": {
  "kernelspec": {
   "display_name": "Python 3",
   "language": "python",
   "name": "python3"
  },
  "language_info": {
   "codemirror_mode": {
    "name": "ipython",
    "version": 3
   },
   "file_extension": ".py",
   "mimetype": "text/x-python",
   "name": "python",
   "nbconvert_exporter": "python",
   "pygments_lexer": "ipython3",
   "version": "3.13.1"
  }
 },
 "nbformat": 4,
 "nbformat_minor": 2
}
